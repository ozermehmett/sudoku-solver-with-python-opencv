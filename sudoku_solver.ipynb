{
 "cells": [
  {
   "cell_type": "code",
   "execution_count": 108,
   "id": "b4996192",
   "metadata": {},
   "outputs": [],
   "source": [
    "import cv2\n",
    "import numpy as np\n",
    "import imageio\n",
    "from imutils import contours"
   ]
  },
  {
   "cell_type": "code",
   "execution_count": 109,
   "id": "9aabf93b",
   "metadata": {},
   "outputs": [],
   "source": [
    "src = cv2.imread(\"D:\\sudoku11.png\")"
   ]
  },
  {
   "cell_type": "code",
   "execution_count": 110,
   "id": "7dbf3916",
   "metadata": {},
   "outputs": [],
   "source": [
    "cv2.imshow(\"Original Image\", src)\n",
    "cv2.waitKey(0)\n",
    "cv2.destroyAllWindows()"
   ]
  },
  {
   "cell_type": "code",
   "execution_count": 111,
   "id": "ca7abd15",
   "metadata": {},
   "outputs": [],
   "source": [
    "gray = cv2.cvtColor(src, cv2.COLOR_BGR2GRAY)"
   ]
  },
  {
   "cell_type": "code",
   "execution_count": 112,
   "id": "58ab49fd",
   "metadata": {
    "scrolled": true
   },
   "outputs": [
    {
     "name": "stdout",
     "output_type": "stream",
     "text": [
      "[[  0   0   0 ...   0   0   0]\n",
      " [  0 255 255 ... 255 255   0]\n",
      " [  0 255 255 ... 255 255   0]\n",
      " ...\n",
      " [  0 255 255 ... 255 255   0]\n",
      " [  0 255 255 ... 255 255   0]\n",
      " [  0   0   0 ...   0   0   0]]\n"
     ]
    }
   ],
   "source": [
    "print(gray)"
   ]
  },
  {
   "cell_type": "code",
   "execution_count": 113,
   "id": "bde6d6aa",
   "metadata": {},
   "outputs": [],
   "source": [
    "cv2.imshow(\"Gray Image\", gray)\n",
    "cv2.waitKey(0)\n",
    "cv2.destroyAllWindows()"
   ]
  },
  {
   "cell_type": "code",
   "execution_count": 114,
   "id": "8bd32a95",
   "metadata": {},
   "outputs": [],
   "source": [
    "gray = cv2.bitwise_not(gray)\n",
    "bw = cv2.adaptiveThreshold(gray, 255, cv2.ADAPTIVE_THRESH_MEAN_C, cv2.THRESH_BINARY, 15, -2)"
   ]
  },
  {
   "cell_type": "code",
   "execution_count": 115,
   "id": "7795b3a8",
   "metadata": {},
   "outputs": [
    {
     "name": "stdout",
     "output_type": "stream",
     "text": [
      "[[255 255 255 ... 255 255 255]\n",
      " [255   0   0 ...   0   0 255]\n",
      " [255   0   0 ...   0   0 255]\n",
      " ...\n",
      " [255   0   0 ...   0   0 255]\n",
      " [255   0   0 ...   0   0 255]\n",
      " [255 255 255 ... 255 255 255]]\n"
     ]
    }
   ],
   "source": [
    "print(bw)"
   ]
  },
  {
   "cell_type": "code",
   "execution_count": 116,
   "id": "5f1d0b13",
   "metadata": {},
   "outputs": [],
   "source": [
    "cv2.imshow(\"Black White Image\", bw)\n",
    "cv2.waitKey(0)\n",
    "cv2.destroyAllWindows()"
   ]
  },
  {
   "cell_type": "code",
   "execution_count": 117,
   "id": "3b1cee7a",
   "metadata": {},
   "outputs": [],
   "source": [
    "horizontal = np.copy(bw)\n",
    "vertical = np.copy(bw)"
   ]
  },
  {
   "cell_type": "code",
   "execution_count": 118,
   "id": "f54da4e5",
   "metadata": {},
   "outputs": [],
   "source": [
    "cols = horizontal.shape[1]\n",
    "horizontal_size = cols // 10"
   ]
  },
  {
   "cell_type": "code",
   "execution_count": 119,
   "id": "362faa0b",
   "metadata": {},
   "outputs": [],
   "source": [
    "horizontalStructre = cv2.getStructuringElement(cv2.MORPH_RECT, (horizontal_size, 1))"
   ]
  },
  {
   "cell_type": "code",
   "execution_count": 120,
   "id": "a9752e49",
   "metadata": {},
   "outputs": [],
   "source": [
    "horizontal = cv2.erode(horizontal, horizontalStructre)\n",
    "horizontal = cv2.dilate(horizontal, horizontalStructre)"
   ]
  },
  {
   "cell_type": "code",
   "execution_count": 121,
   "id": "9cfe7392",
   "metadata": {},
   "outputs": [],
   "source": [
    "cv2.imshow(\"Horizontal lines\", horizontal)\n",
    "cv2.waitKey(0)\n",
    "cv2.destroyAllWindows()"
   ]
  },
  {
   "cell_type": "code",
   "execution_count": 122,
   "id": "7cc6a8e1",
   "metadata": {},
   "outputs": [],
   "source": [
    "rows = vertical.shape[0]\n",
    "vertical_size = rows // 10"
   ]
  },
  {
   "cell_type": "code",
   "execution_count": 123,
   "id": "4ef0a9e4",
   "metadata": {},
   "outputs": [],
   "source": [
    "verticalStructre = cv2.getStructuringElement(cv2.MORPH_RECT, (1, vertical_size))"
   ]
  },
  {
   "cell_type": "code",
   "execution_count": 124,
   "id": "00d69ad6",
   "metadata": {},
   "outputs": [],
   "source": [
    "vertical = cv2.erode(vertical, verticalStructre)\n",
    "vertical = cv2.dilate(vertical, verticalStructre)"
   ]
  },
  {
   "cell_type": "code",
   "execution_count": 125,
   "id": "db988117",
   "metadata": {},
   "outputs": [],
   "source": [
    "cv2.imshow(\"Vertical lines\", vertical)\n",
    "cv2.waitKey(0)\n",
    "cv2.destroyAllWindows()"
   ]
  },
  {
   "cell_type": "markdown",
   "id": "48b774be",
   "metadata": {},
   "source": [
    "### NEW ### "
   ]
  },
  {
   "cell_type": "code",
   "execution_count": 126,
   "id": "aafaeb3b",
   "metadata": {},
   "outputs": [],
   "source": [
    "new_image = cv2.bitwise_or(vertical, horizontal)"
   ]
  },
  {
   "cell_type": "code",
   "execution_count": 127,
   "id": "176886d3",
   "metadata": {},
   "outputs": [],
   "source": [
    "cv2.imshow(\"Grids\", new_image)\n",
    "cv2.waitKey(0)\n",
    "cv2.destroyAllWindows()"
   ]
  },
  {
   "cell_type": "code",
   "execution_count": 128,
   "id": "08b2be37",
   "metadata": {},
   "outputs": [],
   "source": [
    "new_im = cv2.bitwise_not(new_image)"
   ]
  },
  {
   "cell_type": "code",
   "execution_count": 129,
   "id": "9e0dc608",
   "metadata": {},
   "outputs": [],
   "source": [
    "edges =  cv2.adaptiveThreshold(new_im, 255, cv2.ADAPTIVE_THRESH_MEAN_C, cv2.THRESH_BINARY, 3, -2)"
   ]
  },
  {
   "cell_type": "code",
   "execution_count": 130,
   "id": "0e8c0cd5",
   "metadata": {},
   "outputs": [],
   "source": [
    "cv2.imshow(\"Concaneted images\", edges)\n",
    "cv2.waitKey(0)\n",
    "cv2.destroyAllWindows()"
   ]
  },
  {
   "cell_type": "code",
   "execution_count": 131,
   "id": "31ec4e06",
   "metadata": {},
   "outputs": [],
   "source": [
    "kernel = np.ones((2, 2), np.uint8)\n",
    "edges = cv2.dilate(edges, kernel)"
   ]
  },
  {
   "cell_type": "code",
   "execution_count": 132,
   "id": "cf848642",
   "metadata": {},
   "outputs": [],
   "source": [
    "cv2.imshow(\"dilated edges\", edges)\n",
    "cv2.waitKey(0)\n",
    "cv2.destroyAllWindows()"
   ]
  },
  {
   "cell_type": "code",
   "execution_count": 133,
   "id": "e9d68464",
   "metadata": {},
   "outputs": [],
   "source": [
    "smooth = cv2.blur(edges, (2, 2))"
   ]
  },
  {
   "cell_type": "code",
   "execution_count": 134,
   "id": "87cd7c1b",
   "metadata": {},
   "outputs": [],
   "source": [
    "cv2.imshow(\"smooth edges\", smooth)\n",
    "cv2.waitKey(0)\n",
    "cv2.destroyAllWindows()"
   ]
  },
  {
   "cell_type": "markdown",
   "id": "e81ac281",
   "metadata": {},
   "source": [
    "### find contours ### "
   ]
  },
  {
   "cell_type": "code",
   "execution_count": 135,
   "id": "c41304ec",
   "metadata": {},
   "outputs": [],
   "source": [
    "cnts, hierarchy = cv2.findContours(image=smooth, mode=cv2.RETR_TREE, method=cv2.CHAIN_APPROX_NONE)"
   ]
  },
  {
   "cell_type": "code",
   "execution_count": 136,
   "id": "073aa831",
   "metadata": {},
   "outputs": [],
   "source": [
    "cp = src.copy()"
   ]
  },
  {
   "cell_type": "code",
   "execution_count": 137,
   "id": "3d8c99b9",
   "metadata": {},
   "outputs": [
    {
     "data": {
      "text/plain": [
       "array([[[  0,   0, 255],\n",
       "        [  0,   0, 255],\n",
       "        [  0,   0, 255],\n",
       "        ...,\n",
       "        [  0,   0, 255],\n",
       "        [  0,   0, 255],\n",
       "        [  0,   0, 255]],\n",
       "\n",
       "       [[  0,   0, 255],\n",
       "        [  0,   0, 255],\n",
       "        [  0,   0, 255],\n",
       "        ...,\n",
       "        [  0,   0, 255],\n",
       "        [  0,   0, 255],\n",
       "        [  0,   0, 255]],\n",
       "\n",
       "       [[  0,   0, 255],\n",
       "        [  0,   0, 255],\n",
       "        [ 92,  92, 255],\n",
       "        ...,\n",
       "        [  0,   0, 255],\n",
       "        [  0,   0, 255],\n",
       "        [  0,   0, 255]],\n",
       "\n",
       "       ...,\n",
       "\n",
       "       [[  0,   0, 255],\n",
       "        [  0,   0, 255],\n",
       "        [  0,   0, 255],\n",
       "        ...,\n",
       "        [  0,   0, 255],\n",
       "        [  0,   0, 255],\n",
       "        [  0,   0, 255]],\n",
       "\n",
       "       [[  0,   0, 255],\n",
       "        [  0,   0, 255],\n",
       "        [  0,   0, 255],\n",
       "        ...,\n",
       "        [  0,   0, 255],\n",
       "        [  0,   0, 255],\n",
       "        [  0,   0, 255]],\n",
       "\n",
       "       [[  0,   0, 255],\n",
       "        [  0,   0, 255],\n",
       "        [  0,   0, 255],\n",
       "        ...,\n",
       "        [  0,   0, 255],\n",
       "        [  0,   0, 255],\n",
       "        [  0,   0, 255]]], dtype=uint8)"
      ]
     },
     "execution_count": 137,
     "metadata": {},
     "output_type": "execute_result"
    }
   ],
   "source": [
    "cv2.drawContours(image=cp, contours=cnts, contourIdx=-1, color=(0, 0, 255), thickness=2, lineType=cv2.LINE_AA)"
   ]
  },
  {
   "cell_type": "code",
   "execution_count": 138,
   "id": "7c8da651",
   "metadata": {},
   "outputs": [],
   "source": [
    "cv2.imshow(\"detected contours\", cp)\n",
    "cv2.waitKey(0)\n",
    "cv2.destroyAllWindows()"
   ]
  },
  {
   "cell_type": "code",
   "execution_count": 139,
   "id": "b390bdaf",
   "metadata": {},
   "outputs": [],
   "source": [
    "cnts, _ = contours.sort_contours(cnts, method=\"left-to-right\")\n",
    "cnts, _ = contours.sort_contours(cnts, method=\"top-to-bottom\")"
   ]
  },
  {
   "cell_type": "markdown",
   "id": "2a6a6477",
   "metadata": {},
   "source": [
    "### plot contours ###"
   ]
  },
  {
   "cell_type": "code",
   "execution_count": 140,
   "id": "6ba7ae4b",
   "metadata": {},
   "outputs": [],
   "source": [
    "cp = src.copy()\n",
    "count = 0\n",
    "\n",
    "for c in cnts:\n",
    "    if cv2.contourArea(c) > 1000 and cv2.contourArea(c) < 5000:\n",
    "        count += 1\n",
    "        rect = cv2.boundingRect(c)\n",
    "        x, y, w, h = rect\n",
    "        cv2.rectangle(cp, (x, y), (x+w, y+h), (0, 255, 0), 2)\n",
    "        cv2.imshow(\"black white image\", cp)\n",
    "        cv2.waitKey(500)\n",
    "cv2.destroyAllWindows()"
   ]
  },
  {
   "cell_type": "code",
   "execution_count": 141,
   "id": "2a5515c3",
   "metadata": {},
   "outputs": [
    {
     "name": "stdout",
     "output_type": "stream",
     "text": [
      "Defaulting to user installation because normal site-packages is not writeable\n",
      "Requirement already satisfied: pytesseract in c:\\users\\ozerm\\appdata\\roaming\\python\\python310\\site-packages (0.3.10)\n",
      "Requirement already satisfied: Pillow>=8.0.0 in c:\\programdata\\anaconda3\\lib\\site-packages (from pytesseract) (9.4.0)\n",
      "Requirement already satisfied: packaging>=21.3 in c:\\programdata\\anaconda3\\lib\\site-packages (from pytesseract) (22.0)\n"
     ]
    }
   ],
   "source": [
    "!pip install pytesseract"
   ]
  },
  {
   "cell_type": "code",
   "execution_count": 143,
   "id": "53d85d7d",
   "metadata": {},
   "outputs": [],
   "source": [
    "import pytesseract\n",
    "import os\n",
    "import cv2\n",
    "\n",
    "# pytesseract.pytesseract.tesseract_cmd = r'C:\\Program Files\\Tesseract-OCR\\tesseract.exe'\n",
    "\n",
    "def convert_gray(img):\n",
    "    im = cv2.imread(img)\n",
    "    return cv2.cvtColor(im, cv2.COLOR_BGR2GRAY)\n",
    "\n",
    "def get_num(img):\n",
    "    return pytesseract.image_to_string(img, config=r'--oem 1 --psm 13 outputbase digits')"
   ]
  },
  {
   "cell_type": "code",
   "execution_count": 144,
   "id": "3dba8026",
   "metadata": {},
   "outputs": [],
   "source": [
    "import imageio\n",
    "import cv2\n",
    "\n",
    "cp = src.copy()\n",
    "count = 0\n",
    "num = []\n",
    "for c in cnts:\n",
    "    if cv2.contourArea(c) > 1000 and cv2.contourArea(c) < 5000:\n",
    "        count += 1\n",
    "        rect = cv2.boundingRect(c)\n",
    "        x, y, w, h = rect\n",
    "        array = np.array(cp[y:y+h, x:x+w])\n",
    "        num.append(get_num(array))\n"
   ]
  },
  {
   "cell_type": "code",
   "execution_count": 145,
   "id": "0a207742",
   "metadata": {},
   "outputs": [
    {
     "data": {
      "text/plain": [
       "81"
      ]
     },
     "execution_count": 145,
     "metadata": {},
     "output_type": "execute_result"
    }
   ],
   "source": [
    "len(num)"
   ]
  },
  {
   "cell_type": "code",
   "execution_count": 146,
   "id": "345c2f53",
   "metadata": {},
   "outputs": [
    {
     "name": "stdout",
     "output_type": "stream",
     "text": [
      "[['', '7\\n', '', '5\\n', '8\\n', '3\\n', '', '2\\n', ''], ['', '5\\n', '9\\n', '2\\n', '', '', '3\\n', '', ''], ['3\\n', '4\\n', '', '', '', '6\\n', '5\\n', '', '7\\n'], ['7\\n', '9\\n', '5\\n', '', '', '', '6\\n', '3\\n', '2\\n'], ['', '', '3\\n', '6\\n', '9\\n', '7\\n', '1\\n', '', ''], ['6\\n', '8\\n', '', '', '', '2\\n', '7\\n', '', ''], ['9\\n', '1\\n', '4\\n', '8\\n', '3\\n', '5\\n', '', '7\\n', '6\\n'], ['', '3\\n', '', '7\\n', '', '1\\n', '4\\n', '9\\n', '5\\n'], ['5\\n', '6\\n', '7\\n', '4\\n', '2\\n', '9\\n', '', '1\\n', '3\\n']]\n"
     ]
    }
   ],
   "source": [
    "def divide_chunks(l, n):\n",
    "    for i in range(0, len(l), n):\n",
    "        yield l[i: i+n]\n",
    "        \n",
    "n = 9\n",
    "matrix = list(divide_chunks(num, n))\n",
    "print(matrix)"
   ]
  },
  {
   "cell_type": "code",
   "execution_count": 147,
   "id": "fc38bd62",
   "metadata": {},
   "outputs": [],
   "source": [
    "import copy\n",
    "mat = copy.deepcopy(matrix)\n",
    "\n",
    "for n in mat:\n",
    "    for j,i in enumerate(n):\n",
    "        if i == \"\":\n",
    "            n[j]=i.replace(\"\", \"0\")\n",
    "        else:\n",
    "            n[j]=i.replace(i, i[0])"
   ]
  },
  {
   "cell_type": "code",
   "execution_count": 148,
   "id": "35749150",
   "metadata": {},
   "outputs": [
    {
     "data": {
      "text/plain": [
       "[['0', '7', '0', '5', '8', '3', '0', '2', '0'],\n",
       " ['0', '5', '9', '2', '0', '0', '3', '0', '0'],\n",
       " ['3', '4', '0', '0', '0', '6', '5', '0', '7'],\n",
       " ['7', '9', '5', '0', '0', '0', '6', '3', '2'],\n",
       " ['0', '0', '3', '6', '9', '7', '1', '0', '0'],\n",
       " ['6', '8', '0', '0', '0', '2', '7', '0', '0'],\n",
       " ['9', '1', '4', '8', '3', '5', '0', '7', '6'],\n",
       " ['0', '3', '0', '7', '0', '1', '4', '9', '5'],\n",
       " ['5', '6', '7', '4', '2', '9', '0', '1', '3']]"
      ]
     },
     "execution_count": 148,
     "metadata": {},
     "output_type": "execute_result"
    }
   ],
   "source": [
    "mat"
   ]
  },
  {
   "cell_type": "code",
   "execution_count": 149,
   "id": "4da84b05",
   "metadata": {},
   "outputs": [],
   "source": [
    "for row in mat:\n",
    "    for j,i in enumerate(row):\n",
    "        row[j] = int(i)"
   ]
  },
  {
   "cell_type": "code",
   "execution_count": 150,
   "id": "3e9d7724",
   "metadata": {},
   "outputs": [
    {
     "data": {
      "text/plain": [
       "[[0, 7, 0, 5, 8, 3, 0, 2, 0],\n",
       " [0, 5, 9, 2, 0, 0, 3, 0, 0],\n",
       " [3, 4, 0, 0, 0, 6, 5, 0, 7],\n",
       " [7, 9, 5, 0, 0, 0, 6, 3, 2],\n",
       " [0, 0, 3, 6, 9, 7, 1, 0, 0],\n",
       " [6, 8, 0, 0, 0, 2, 7, 0, 0],\n",
       " [9, 1, 4, 8, 3, 5, 0, 7, 6],\n",
       " [0, 3, 0, 7, 0, 1, 4, 9, 5],\n",
       " [5, 6, 7, 4, 2, 9, 0, 1, 3]]"
      ]
     },
     "execution_count": 150,
     "metadata": {},
     "output_type": "execute_result"
    }
   ],
   "source": [
    "mat"
   ]
  },
  {
   "cell_type": "code",
   "execution_count": 151,
   "id": "7092a619",
   "metadata": {},
   "outputs": [],
   "source": [
    "grid = copy.deepcopy(mat)"
   ]
  },
  {
   "cell_type": "markdown",
   "id": "addb7173",
   "metadata": {},
   "source": [
    "### SOLVER"
   ]
  },
  {
   "cell_type": "code",
   "execution_count": 152,
   "id": "ad8d6631",
   "metadata": {},
   "outputs": [
    {
     "name": "stdout",
     "output_type": "stream",
     "text": [
      "1 7 6 5 8 3 9 2 4 \n",
      "8 5 9 2 7 4 3 6 1 \n",
      "3 4 2 9 1 6 5 8 7 \n",
      "7 9 5 1 4 8 6 3 2 \n",
      "4 2 3 6 9 7 1 5 8 \n",
      "6 8 1 3 5 2 7 4 9 \n",
      "9 1 4 8 3 5 2 7 6 \n",
      "2 3 8 7 6 1 4 9 5 \n",
      "5 6 7 4 2 9 8 1 3 \n"
     ]
    }
   ],
   "source": [
    "M = 9\n",
    "def puzzle(a):\n",
    "    for i in range(M):\n",
    "        for j in range(M):\n",
    "            print(a[i][j],end = \" \")\n",
    "        print()\n",
    "def solve(grid, row, col, num):\n",
    "    for x in range(9):\n",
    "        if grid[row][x] == num:\n",
    "            return False\n",
    "        \n",
    "    for x in range(9):\n",
    "        if grid[x][col] == num:\n",
    "            return False\n",
    "\n",
    "\n",
    "    startRow = row - row % 3\n",
    "    startCol = col - col % 3\n",
    "    for i in range(3):\n",
    "        for j in range(3):\n",
    "            if grid[i + startRow][j + startCol] == num:\n",
    "                return False\n",
    "    return True\n",
    "\n",
    "def Suduko(grid, row, col):\n",
    "\n",
    "    if (row == M - 1 and col == M):\n",
    "        return True\n",
    "    if col == M:\n",
    "        row += 1\n",
    "        col = 0\n",
    "    if grid[row][col] > 0:\n",
    "        return Suduko(grid, row, col + 1)\n",
    "    for num in range(1, M + 1, 1): \n",
    "    \n",
    "        if solve(grid, row, col, num):\n",
    "        \n",
    "            grid[row][col] = num\n",
    "            if Suduko(grid, row, col + 1):\n",
    "                return True\n",
    "        grid[row][col] = 0\n",
    "    return False\n",
    "\n",
    "\n",
    "if (Suduko(grid, 0, 0)):\n",
    "    puzzle(grid)\n",
    "else:\n",
    "    print(\"Solution does not exist:(\")"
   ]
  },
  {
   "cell_type": "code",
   "execution_count": 153,
   "id": "bfa8bcad",
   "metadata": {},
   "outputs": [],
   "source": [
    "bound = []\n",
    "count = 0\n",
    "for c in cnts:\n",
    "    if cv2.contourArea(c) > 1000 and cv2.contourArea(c) < 5000:\n",
    "        count += 1\n",
    "        rect = cv2.boundingRect(c)\n",
    "        bound.append(rect)"
   ]
  },
  {
   "cell_type": "code",
   "execution_count": 154,
   "id": "58bcbc2c",
   "metadata": {},
   "outputs": [
    {
     "data": {
      "text/plain": [
       "81"
      ]
     },
     "execution_count": 154,
     "metadata": {},
     "output_type": "execute_result"
    }
   ],
   "source": [
    "len(bound)"
   ]
  },
  {
   "cell_type": "code",
   "execution_count": 155,
   "id": "d5561708",
   "metadata": {},
   "outputs": [
    {
     "data": {
      "text/plain": [
       "[[1, 7, 6, 5, 8, 3, 9, 2, 4],\n",
       " [8, 5, 9, 2, 7, 4, 3, 6, 1],\n",
       " [3, 4, 2, 9, 1, 6, 5, 8, 7],\n",
       " [7, 9, 5, 1, 4, 8, 6, 3, 2],\n",
       " [4, 2, 3, 6, 9, 7, 1, 5, 8],\n",
       " [6, 8, 1, 3, 5, 2, 7, 4, 9],\n",
       " [9, 1, 4, 8, 3, 5, 2, 7, 6],\n",
       " [2, 3, 8, 7, 6, 1, 4, 9, 5],\n",
       " [5, 6, 7, 4, 2, 9, 8, 1, 3]]"
      ]
     },
     "execution_count": 155,
     "metadata": {},
     "output_type": "execute_result"
    }
   ],
   "source": [
    "grid"
   ]
  },
  {
   "cell_type": "code",
   "execution_count": 156,
   "id": "3671dbfd",
   "metadata": {},
   "outputs": [
    {
     "data": {
      "text/plain": [
       "[[0, 7, 0, 5, 8, 3, 0, 2, 0],\n",
       " [0, 5, 9, 2, 0, 0, 3, 0, 0],\n",
       " [3, 4, 0, 0, 0, 6, 5, 0, 7],\n",
       " [7, 9, 5, 0, 0, 0, 6, 3, 2],\n",
       " [0, 0, 3, 6, 9, 7, 1, 0, 0],\n",
       " [6, 8, 0, 0, 0, 2, 7, 0, 0],\n",
       " [9, 1, 4, 8, 3, 5, 0, 7, 6],\n",
       " [0, 3, 0, 7, 0, 1, 4, 9, 5],\n",
       " [5, 6, 7, 4, 2, 9, 0, 1, 3]]"
      ]
     },
     "execution_count": 156,
     "metadata": {},
     "output_type": "execute_result"
    }
   ],
   "source": [
    "mat"
   ]
  },
  {
   "cell_type": "code",
   "execution_count": 157,
   "id": "a17b00e2",
   "metadata": {},
   "outputs": [
    {
     "name": "stdout",
     "output_type": "stream",
     "text": [
      "[[(3, 3, 61, 61), (67, 3, 61, 61), (131, 3, 60, 61), (196, 3, 60, 61), (259, 3, 61, 61), (323, 3, 60, 61), (388, 3, 60, 61), (451, 3, 61, 61), (515, 3, 61, 61)], [(3, 67, 61, 61), (67, 67, 61, 61), (131, 67, 60, 61), (196, 67, 60, 61), (259, 67, 61, 61), (323, 67, 60, 61), (388, 67, 60, 61), (451, 67, 61, 61), (515, 67, 61, 61)], [(3, 131, 61, 60), (67, 131, 61, 60), (131, 131, 60, 60), (196, 131, 60, 60), (259, 131, 61, 60), (323, 131, 60, 60), (388, 131, 60, 60), (451, 131, 61, 60), (515, 131, 61, 60)], [(3, 196, 61, 60), (67, 196, 61, 60), (131, 196, 60, 60), (196, 196, 60, 60), (259, 196, 61, 60), (323, 196, 60, 60), (388, 196, 60, 60), (451, 196, 61, 60), (515, 196, 61, 60)], [(3, 259, 61, 61), (67, 259, 61, 61), (131, 259, 60, 61), (196, 259, 60, 61), (259, 259, 61, 61), (323, 259, 60, 61), (388, 259, 60, 61), (451, 259, 61, 61), (515, 259, 61, 61)], [(3, 323, 61, 60), (67, 323, 61, 60), (131, 323, 60, 60), (196, 323, 60, 60), (259, 323, 61, 60), (323, 323, 60, 60), (388, 323, 60, 60), (451, 323, 61, 60), (515, 323, 61, 60)], [(3, 388, 61, 60), (67, 388, 61, 60), (131, 388, 60, 60), (196, 388, 60, 60), (259, 388, 61, 60), (323, 388, 60, 60), (388, 388, 60, 60), (451, 388, 61, 60), (515, 388, 61, 60)], [(3, 451, 61, 61), (67, 451, 61, 61), (131, 451, 60, 61), (196, 451, 60, 61), (259, 451, 61, 61), (323, 451, 60, 61), (388, 451, 60, 61), (451, 451, 61, 61), (515, 451, 61, 61)], [(3, 515, 61, 61), (67, 515, 61, 61), (131, 515, 60, 61), (196, 515, 60, 61), (259, 515, 61, 61), (323, 515, 60, 61), (388, 515, 60, 61), (451, 515, 61, 61), (515, 515, 61, 61)]]\n"
     ]
    }
   ],
   "source": [
    "n = 9\n",
    "bound = list(divide_chunks(bound, n))\n",
    "print(bound)"
   ]
  },
  {
   "cell_type": "code",
   "execution_count": 158,
   "id": "3c63cdc6",
   "metadata": {},
   "outputs": [],
   "source": [
    "cp = src.copy()\n",
    "\n",
    "for i, m in enumerate(mat):\n",
    "    for j, n in enumerate(m):\n",
    "        if mat[i][j] != grid[i][j]:\n",
    "            x, y, w, h = bound[i][j]\n",
    "            cv2.putText(cp, str(grid[i][j]), (x+w-40, y+h-20), 0, 0.9, (0, 0, 255))"
   ]
  },
  {
   "cell_type": "code",
   "execution_count": 159,
   "id": "9cbdee8c",
   "metadata": {},
   "outputs": [],
   "source": [
    "cv2.imshow(\"Example\", cp)\n",
    "cv2.waitKey(0)\n",
    "cv2.destroyAllWindows()"
   ]
  },
  {
   "cell_type": "code",
   "execution_count": null,
   "id": "f09a0067",
   "metadata": {},
   "outputs": [],
   "source": []
  }
 ],
 "metadata": {
  "kernelspec": {
   "display_name": "Python 3 (ipykernel)",
   "language": "python",
   "name": "python3"
  },
  "language_info": {
   "codemirror_mode": {
    "name": "ipython",
    "version": 3
   },
   "file_extension": ".py",
   "mimetype": "text/x-python",
   "name": "python",
   "nbconvert_exporter": "python",
   "pygments_lexer": "ipython3",
   "version": "3.10.9"
  }
 },
 "nbformat": 4,
 "nbformat_minor": 5
}
